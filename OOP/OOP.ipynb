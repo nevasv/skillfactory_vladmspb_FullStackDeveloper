{
 "cells": [
  {
   "cell_type": "code",
   "execution_count": 4,
   "metadata": {},
   "outputs": [],
   "source": [
    "import datetime"
   ]
  },
  {
   "cell_type": "code",
   "execution_count": 5,
   "metadata": {
    "pycharm": {
     "is_executing": true
    }
   },
   "outputs": [],
   "source": [
    "class Product:\n",
    "    max_quantity = 100000\n",
    "\n",
    "    def __init__(self, name, category, quantity_in_stock):\n",
    "        self.name = name\n",
    "        self.category = category\n",
    "        self.quantity_in_stock = quantity_in_stock\n",
    "\n",
    "    def is_available(self):\n",
    "        return True if self.quantity_in_stock > 0 else False"
   ]
  },
  {
   "cell_type": "code",
   "execution_count": 6,
   "metadata": {
    "pycharm": {
     "is_executing": true,
     "name": "#%%\n"
    }
   },
   "outputs": [],
   "source": [
    "class Food(Product):\n",
    "    is_critical = True\n",
    "    needs_to_be_refreshed = True\n",
    "    refresh_frequency = datetime.timedelta(days=1)"
   ]
  },
  {
   "cell_type": "code",
   "execution_count": 7,
   "metadata": {
    "pycharm": {
     "is_executing": true,
     "name": "#%%\n"
    }
   },
   "outputs": [],
   "source": [
    "class Event:\n",
    "    def __init__(self, timestamp, event_type, session_id):\n",
    "        self.timestamp = timestamp\n",
    "        self.type = event_type\n",
    "        self.session_id = session_id"
   ]
  },
  {
   "cell_type": "code",
   "execution_count": 9,
   "metadata": {},
   "outputs": [],
   "source": [
    "class User:\n",
    "    def __init__(self, name, email):\n",
    "        self.name = name\n",
    "        self.email = email"
   ]
  },
  {
   "cell_type": "code",
   "execution_count": 10,
   "metadata": {
    "pycharm": {
     "name": "#%%\n"
    }
   },
   "outputs": [],
   "source": [
    "peter = User(name=\"Peter Robertson\", email=\"peterrobertson@mail.com\")\n",
    "julia = User(name=\"Julia Donaldson\", email=\"juliadonaldson@mail.com\")\n",
    "eggs = Product(\"eggs\", \"food\", 5)"
   ]
  },
  {
   "cell_type": "code",
   "execution_count": 11,
   "metadata": {
    "pycharm": {
     "name": "#%%\n"
    }
   },
   "outputs": [
    {
     "name": "stdout",
     "output_type": "stream",
     "text": [
      "True\n",
      "Peter Robertson\n",
      "juliadonaldson@mail.com\n"
     ]
    }
   ],
   "source": [
    "print(eggs.is_available())\n",
    "print(peter.name)\n",
    "print(julia.email)"
   ]
  },
  {
   "cell_type": "code",
   "execution_count": null,
   "metadata": {},
   "outputs": [],
   "source": []
  }
 ],
 "metadata": {
  "kernelspec": {
   "display_name": "Python 3 (ipykernel)",
   "language": "python",
   "name": "python3"
  },
  "language_info": {
   "codemirror_mode": {
    "name": "ipython",
    "version": 3
   },
   "file_extension": ".py",
   "mimetype": "text/x-python",
   "name": "python",
   "nbconvert_exporter": "python",
   "pygments_lexer": "ipython3",
   "version": "3.9.8"
  }
 },
 "nbformat": 4,
 "nbformat_minor": 4
}